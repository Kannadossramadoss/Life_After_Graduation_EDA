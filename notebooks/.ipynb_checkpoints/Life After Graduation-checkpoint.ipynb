{
 "cells": [
  {
   "cell_type": "code",
   "execution_count": 1,
   "id": "f02b9211",
   "metadata": {},
   "outputs": [],
   "source": [
    "# Load libraries\n",
    "import pandas as pd\n",
    "import numpy as np\n",
    "import matplotlib.pyplot as plt"
   ]
  },
  {
   "cell_type": "code",
   "execution_count": 2,
   "id": "df88073e",
   "metadata": {},
   "outputs": [],
   "source": [
    "# Load input data\n",
    "df = pd.read_csv(\"../data/college_scorecard.csv\")"
   ]
  },
  {
   "cell_type": "code",
   "execution_count": 3,
   "id": "fdc8be67",
   "metadata": {},
   "outputs": [
    {
     "name": "stdout",
     "output_type": "stream",
     "text": [
      "<class 'pandas.core.frame.DataFrame'>\n",
      "RangeIndex: 800 entries, 0 to 799\n",
      "Data columns (total 6 columns):\n",
      " #   Column            Non-Null Count  Dtype  \n",
      "---  ------            --------------  -----  \n",
      " 0   institution_name  800 non-null    object \n",
      " 1   major_field       768 non-null    object \n",
      " 2   degree_level      800 non-null    object \n",
      " 3   median_earnings   800 non-null    int64  \n",
      " 4   employment_rate   789 non-null    float64\n",
      " 5   debt_median       776 non-null    object \n",
      "dtypes: float64(1), int64(1), object(4)\n",
      "memory usage: 37.6+ KB\n"
     ]
    }
   ],
   "source": [
    "# Get the basic information of the input dataframe.\n",
    "df.info()"
   ]
  },
  {
   "cell_type": "code",
   "execution_count": 4,
   "id": "be6f78a5",
   "metadata": {},
   "outputs": [
    {
     "data": {
      "text/plain": [
       "institution_name     0\n",
       "major_field         32\n",
       "degree_level         0\n",
       "median_earnings      0\n",
       "employment_rate     11\n",
       "debt_median         24\n",
       "dtype: int64"
      ]
     },
     "execution_count": 4,
     "metadata": {},
     "output_type": "execute_result"
    }
   ],
   "source": [
    "# Find the missing values in each column.\n",
    "df.isnull().sum()"
   ]
  },
  {
   "cell_type": "code",
   "execution_count": 5,
   "id": "a71897b2",
   "metadata": {},
   "outputs": [],
   "source": [
    "# Fill the NaN valuse in major field by mode.\n",
    "major_field_mode = df['major_field'].mode()[0]\n",
    "df['major_field'] = df['major_field'].fillna(major_field_mode)"
   ]
  },
  {
   "cell_type": "code",
   "execution_count": 6,
   "id": "2f1a83b3",
   "metadata": {},
   "outputs": [],
   "source": [
    "# Replace negative or >1 employment_rate values with NaN\n",
    "df['employment_rate'] = df['employment_rate'].apply(lambda x: x if 0 <= x <= 1 else np.nan)"
   ]
  },
  {
   "cell_type": "code",
   "execution_count": 7,
   "id": "a5227cf2",
   "metadata": {},
   "outputs": [],
   "source": [
    "# Group-wise median imputation (by major_field + degree_level)\n",
    "df['employment_rate'] = df.groupby(['major_field', 'degree_level'])['employment_rate'].transform(lambda x: x.fillna(x[x.notna() & (x >= 0) & (x <= 1)].median()))"
   ]
  },
  {
   "cell_type": "code",
   "execution_count": 8,
   "id": "3a190943",
   "metadata": {},
   "outputs": [],
   "source": [
    "# Convert debt median column to float.\n",
    "df['debt_median'] = pd.to_numeric(df['debt_median'], errors='coerce')"
   ]
  },
  {
   "cell_type": "code",
   "execution_count": 9,
   "id": "ea859e20",
   "metadata": {},
   "outputs": [],
   "source": [
    "# Replace NaN in debt median column by median from major field and degree level.\n",
    "debt_median_values = df.groupby(['major_field', 'degree_level'])['debt_median'].transform('median')\n",
    "df['debt_median'] = df['debt_median'].fillna(debt_median_values) "
   ]
  },
  {
   "cell_type": "code",
   "execution_count": 10,
   "id": "056e96a5",
   "metadata": {},
   "outputs": [],
   "source": [
    "# Earning should not be negative. So, identifing the distribution is skewed or normal distribution.\n",
    "positive_earning_df = df.loc[df['median_earnings']>0]"
   ]
  },
  {
   "cell_type": "code",
   "execution_count": 11,
   "id": "d2db8d85",
   "metadata": {},
   "outputs": [],
   "source": [
    "# Fill the values less than zero as nan, so the median won't affect.\n",
    "df['median_earnings'] = df['median_earnings'].apply(lambda x: x if x > 0 else np.nan)"
   ]
  },
  {
   "cell_type": "code",
   "execution_count": 12,
   "id": "e6ea83c3",
   "metadata": {},
   "outputs": [],
   "source": [
    "# Group-wise median imputation using transform\n",
    "df['median_earnings'] = df.groupby(['major_field', 'degree_level'])['median_earnings'].transform(lambda x: x.fillna(x.median()))"
   ]
  },
  {
   "cell_type": "code",
   "execution_count": 13,
   "id": "56abc8c8",
   "metadata": {
    "scrolled": true
   },
   "outputs": [
    {
     "data": {
      "text/plain": [
       "institution_name    0\n",
       "major_field         0\n",
       "degree_level        0\n",
       "median_earnings     0\n",
       "employment_rate     0\n",
       "debt_median         0\n",
       "dtype: int64"
      ]
     },
     "execution_count": 13,
     "metadata": {},
     "output_type": "execute_result"
    }
   ],
   "source": [
    "# Verify if all the missing values are filled.\n",
    "df.isnull().sum()"
   ]
  }
 ],
 "metadata": {
  "kernelspec": {
   "display_name": "Python 3 (ipykernel)",
   "language": "python",
   "name": "python3"
  },
  "language_info": {
   "codemirror_mode": {
    "name": "ipython",
    "version": 3
   },
   "file_extension": ".py",
   "mimetype": "text/x-python",
   "name": "python",
   "nbconvert_exporter": "python",
   "pygments_lexer": "ipython3",
   "version": "3.11.5"
  }
 },
 "nbformat": 4,
 "nbformat_minor": 5
}
